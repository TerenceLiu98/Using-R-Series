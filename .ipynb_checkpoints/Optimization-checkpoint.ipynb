{
 "cells": [
  {
   "cell_type": "markdown",
   "metadata": {},
   "source": [
    "## Chapter One \n",
    "\n",
    "### 1.1 Least Squares Data Fitting \n",
    "\n",
    "Supposr that is a model, the relationship between two variables $b$ and $t$ are governed by a **quadratic function**(二次函数): \n",
    "\n",
    "<center>$b(t) = x_1 + x_2t + x_3t^2$</center>\n",
    "\n",
    "We need to use some experimental experimental data $(t_1,b_1),(t_2,b_2),\\dots,(t_m,b_m)$ to determine$x_1,x_2$ and $x_3$.  \n",
    "\n",
    "If m = 3, and:  \n",
    "$$\n",
    "    \\left\\{ \n",
    "        \\begin{aligned}\n",
    "            (t_1, b_1) = (2, 1) \\\\\n",
    "            (t_2, b_2) = (3, 6) \\\\\n",
    "            (t_3, t_3) = (5, 4) \n",
    "        \\end{aligned}\n",
    "    \\right.\n",
    "$$\n",
    "then: \n",
    "$$\n",
    "    \\begin{bmatrix} \n",
    "        1 & 2 & 4 \\\\ 1 & 3 & 9 \\\\ 2 & 5 & 25 \n",
    "     \\end{bmatrix}\n",
    "     \\times \n",
    "     \\begin{bmatrix}\n",
    "         x_1 \\\\ \n",
    "         x_2 \\\\ \n",
    "         x_3 \n",
    "     \\end{bmatrix}\n",
    "     =\n",
    "     \\begin{bmatrix}\n",
    "         1 \\\\\n",
    "         6 \\\\\n",
    "         4 \n",
    "      \\end{bmatrix}\n",
    "$$\n",
    "\n",
    "Solving the above linear equation gives, we can use **`R`** "
   ]
  },
  {
   "cell_type": "code",
   "execution_count": 3,
   "metadata": {},
   "outputs": [],
   "source": [
    "M_1 = matrix(c(1,1,1,2,3,5,4,9,25),nrow = 3)\n",
    "M_2 = matrix(c(1,6,4))"
   ]
  },
  {
   "cell_type": "code",
   "execution_count": 4,
   "metadata": {},
   "outputs": [
    {
     "name": "stdout",
     "output_type": "stream",
     "text": [
      "     [,1] [,2] [,3]\n",
      "[1,]    1    2    4\n",
      "[2,]    1    3    9\n",
      "[3,]    1    5   25\n",
      "     [,1]\n",
      "[1,]    1\n",
      "[2,]    6\n",
      "[3,]    4\n"
     ]
    },
    {
     "data": {
      "text/html": [
       "<table>\n",
       "<tbody>\n",
       "\t<tr><td>-21</td></tr>\n",
       "\t<tr><td> 15</td></tr>\n",
       "\t<tr><td> -2</td></tr>\n",
       "</tbody>\n",
       "</table>\n"
      ],
      "text/latex": [
       "\\begin{tabular}{l}\n",
       "\t -21\\\\\n",
       "\t  15\\\\\n",
       "\t  -2\\\\\n",
       "\\end{tabular}\n"
      ],
      "text/markdown": [
       "\n",
       "| -21 | \n",
       "|  15 | \n",
       "|  -2 | \n",
       "\n",
       "\n"
      ],
      "text/plain": [
       "     [,1]\n",
       "[1,] -21 \n",
       "[2,]  15 \n",
       "[3,]  -2 "
      ]
     },
     "metadata": {},
     "output_type": "display_data"
    }
   ],
   "source": [
    "print(M_1)\n",
    "print(M_2)\n",
    "solve(M_1,M_2)"
   ]
  },
  {
   "cell_type": "markdown",
   "metadata": {},
   "source": [
    "We can get $(x_1, x_2, x_3)^T = (-21, 15, -2)$  \\\\\n",
    "so that $b(t) = -21 + 15t -2t^2$. \\\\\n",
    "It is common that we collect **more data points than the number of variables in the model**. And it is expected that each of the measurements will be in error. \n",
    "\n",
    "For example, if we also have $(t_4, b_4) = (7,-15)$, and if we use the above $b(t)$, then: $b(7) = -21 + 15*7 - 2*7^2 = -14 \\neq -15$. \n",
    "\n",
    "Since each data point may have some error, we must use them **\"collectively\"**(共同地)."
   ]
  },
  {
   "cell_type": "markdown",
   "metadata": {},
   "source": [
    "Define the **residual vector**： \n",
    "$$\n",
    "    r = b-Ax = \n",
    "    \\begin{bmatrix}\n",
    "        b_1 - (x_1 + x_2t_1 + x_3t_1^2) \\\\\n",
    "        b_2 - (x_1 + x_2t_2 + x_3t_2^2) \\\\\n",
    "        . \\\\\n",
    "        . \\\\\n",
    "        . \\\\\n",
    "        b_m - (x_1 + x_2t_m + x_3t_m^2) \n",
    "     \\end{bmatrix}\n",
    "$$ \n",
    "where \n",
    "$$\n",
    "    r = \n",
    "    \\begin{bmatrix}\n",
    "        r_1 \\\\\n",
    "        . \\\\\n",
    "        . \\\\\n",
    "        . \\\\\n",
    "        r_m \n",
    "     \\end{bmatrix}\n",
    "     \\text{ and  } \n",
    "     A = \n",
    "     \\begin{bmatrix}\n",
    "        1 & t_1 & t_1^2  \\\\\n",
    "        . \\\\\n",
    "        . \\\\\n",
    "        . \\\\\n",
    "        1 & t_m & t_m^2 \n",
    "     \\end{bmatrix}\n",
    "$$ \n",
    "and make $r$ **as small as possible**. As $r$ is a vector, we specify the request of making $r$ small as **letting some norm of $r$ small**.  "
   ]
  },
  {
   "cell_type": "markdown",
   "metadata": {},
   "source": [
    "Now, we can use `R` code to try to make the model:  "
   ]
  },
  {
   "cell_type": "code",
   "execution_count": 8,
   "metadata": {},
   "outputs": [
    {
     "data": {
      "text/html": [
       "<strong>pdf:</strong> 2"
      ],
      "text/latex": [
       "\\textbf{pdf:} 2"
      ],
      "text/markdown": [
       "**pdf:** 2"
      ],
      "text/plain": [
       "pdf \n",
       "  2 "
      ]
     },
     "metadata": {},
     "output_type": "display_data"
    },
    {
     "name": "stdout",
     "output_type": "stream",
     "text": [
      "[1] 41.02868\n"
     ]
    },
    {
     "name": "stderr",
     "output_type": "stream",
     "text": [
      "Waiting for profiling to be done...\n"
     ]
    },
    {
     "name": "stdout",
     "output_type": "stream",
     "text": [
      "        2.5%      97.5%\n",
      "b1 -2.265969  0.3930825\n",
      "b2 -3.298662 12.6327087\n"
     ]
    }
   ],
   "source": [
    "xvalues <- c(2,3,5,7)\n",
    "yvalues <- c(1,6,4,-15)\n",
    "\n",
    "png(file = \"nls.png\")\n",
    "\n",
    "plot(xvalues, yvalues)\n",
    "\n",
    "model <- nls(yvalues ~ b1 * xvalues^2 + b2 * xvalues, start = list(b1 = 1, b2 = 1))\n",
    "\n",
    "new.data <- data.frame(xvalues = seq(min(xvalues),max(xvalues),len = 100))\n",
    "lines(new.data$xvalues,predict(model,newdata = new.data))\n",
    "\n",
    "dev.off()\n",
    "\n",
    "print(sum(resid(model)^2))\n",
    "\n",
    "print(confint(model))"
   ]
  },
  {
   "cell_type": "code",
   "execution_count": null,
   "metadata": {},
   "outputs": [],
   "source": []
  }
 ],
 "metadata": {
  "kernelspec": {
   "display_name": "R",
   "language": "R",
   "name": "ir"
  },
  "language_info": {
   "codemirror_mode": "r",
   "file_extension": ".r",
   "mimetype": "text/x-r-source",
   "name": "R",
   "pygments_lexer": "r",
   "version": "3.5.1"
  }
 },
 "nbformat": 4,
 "nbformat_minor": 2
}
